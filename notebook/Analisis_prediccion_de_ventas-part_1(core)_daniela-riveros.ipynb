{
 "cells": [
  {
   "cell_type": "markdown",
   "metadata": {},
   "source": [
    "### Python para Ciencia de Datos / Proyecto I. Análisis y predicción de ventas-Part 1 (Core)"
   ]
  },
  {
   "cell_type": "markdown",
   "metadata": {},
   "source": [
    "1. Importamos libretia y cargamos los datos con NumPy"
   ]
  },
  {
   "cell_type": "code",
   "execution_count": 1,
   "metadata": {},
   "outputs": [],
   "source": [
    "#importamos libretias\n",
    "import numpy as np\n",
    "import csv"
   ]
  },
  {
   "cell_type": "code",
   "execution_count": 2,
   "metadata": {},
   "outputs": [
    {
     "name": "stdout",
     "output_type": "stream",
     "text": [
      "\n",
      "Data Preview (first 5 rows):\n",
      "Transaction ID      Date                Customer ID         Gender              Age                 Product Category    Quantity            Price per Unit      Total Amount        \n",
      "1                   2023-11-24          CUST001             Male                34                  Beauty              3                   50                  150                 \n",
      "2                   2023-02-27          CUST002             Female              26                  Clothing            2                   500                 1000                \n",
      "3                   2023-01-13          CUST003             Male                50                  Electronics         1                   30                  30                  \n",
      "4                   2023-05-21          CUST004             Male                37                  Clothing            1                   500                 500                 \n",
      "5                   2023-05-06          CUST005             Male                30                  Beauty              2                   50                  100                 \n"
     ]
    }
   ],
   "source": [
    "#cargamos los datos con numpy, como esta en ejemplo \n",
    "def cargar_datos(ruta_archivo):\n",
    "    # Carga los datos del archivo CSV utilizando NumPy\n",
    "    datos = np.genfromtxt(ruta_archivo, delimiter=',', skip_header=1, dtype=str, filling_values=np.nan)\n",
    "    return datos\n",
    "\n",
    "#funcion para ver los nomnres de la columnas\n",
    "def ver_columnas(ruta_archivo):\n",
    "    with open(ruta_archivo, 'r', encoding='utf-8') as archivo_csv:\n",
    "        lector_csv = csv.reader(archivo_csv)\n",
    "        columnas = next(lector_csv) \n",
    "    return columnas\n",
    "\n",
    "\n",
    "# Definimos la ruta del archivo\n",
    "if __name__ == \"__main__\":\n",
    "    \n",
    "    ruta_archivo = r'C:\\Users\\damav\\Desktop\\Codingdojo\\clases\\ratail-sales-analysis\\data\\retail_sales_dataset.csv'\n",
    "\n",
    "    columnas = ver_columnas(ruta_archivo)\n",
    "    #Ubicacion del archivo\n",
    "    datos = cargar_datos(ruta_archivo)\n",
    "    \n",
    "    #Imprir las columnas\n",
    "    print(\"\\nData Preview (first 5 rows):\")\n",
    "    for nombres in columnas:\n",
    "        print(f\"{nombres:20}\", end='')  \n",
    "    print()  \n",
    "\n",
    "    # Print the first 5 rows of data\n",
    "    for filas in datos[:5]:  \n",
    "        for valor in filas:\n",
    "            print(f\"{valor:20}\", end='') \n",
    "        print()  \n"
   ]
  },
  {
   "cell_type": "markdown",
   "metadata": {},
   "source": [
    "#### Exploración de Datos:\n",
    "\n"
   ]
  },
  {
   "cell_type": "markdown",
   "metadata": {},
   "source": [
    "1. Calcula el total de ventas por categoría de producto."
   ]
  },
  {
   "cell_type": "code",
   "execution_count": 3,
   "metadata": {},
   "outputs": [
    {
     "name": "stdout",
     "output_type": "stream",
     "text": [
      "\n",
      "Total Ventas por Categoria de Productos:\n",
      "Beauty: 143515.00\n",
      "Clothing: 155580.00\n",
      "Electronics: 156905.00\n"
     ]
    }
   ],
   "source": [
    "#Definimos los indices de la columnas que necestamos para los calculos, verificacion hecha con el archivo excel del dataset.\n",
    "product_category = datos[:, 5]  \n",
    "total_amount = datos[:, 8].astype(float)  \n",
    "\n",
    "#Guardamos los totales en un diccionario, por categoria\n",
    "total_ventas_por_categoria = {}\n",
    "\n",
    "\n",
    "for i in range(len(product_category)):\n",
    "    categoria = product_category[i]\n",
    "    total = total_amount[i]\n",
    "    \n",
    "    if categoria in total_ventas_por_categoria:\n",
    "        total_ventas_por_categoria[categoria] += total\n",
    "    \n",
    "    else:\n",
    "        total_ventas_por_categoria[categoria] = total\n",
    "\n",
    "#Imprimir el total de ventas por categoria\n",
    "print(\"\\nTotal Ventas por Categoria de Productos:\")\n",
    "for categoria, total in total_ventas_por_categoria.items():\n",
    "    print(f\"{categoria}: {total:.2f}\")"
   ]
  },
  {
   "cell_type": "markdown",
   "metadata": {},
   "source": [
    "2. Calcula el promedio de ventas diarias por categoría de producto."
   ]
  },
  {
   "cell_type": "code",
   "execution_count": 4,
   "metadata": {},
   "outputs": [],
   "source": [
    "#Optenemos los fechas y la cantidad de dias en el dataset\n",
    "dias = set('Date')\n",
    "numero_de_dias = len(dias)"
   ]
  },
  {
   "cell_type": "code",
   "execution_count": 5,
   "metadata": {},
   "outputs": [],
   "source": [
    "#Calculamos el promedio de ventas diarias por categoria de productos\n",
    "promedio_diario_de_ventas_por_categoria = {categoria: total / numero_de_dias for categoria, total in total_ventas_por_categoria.items()}"
   ]
  },
  {
   "cell_type": "code",
   "execution_count": 6,
   "metadata": {},
   "outputs": [
    {
     "name": "stdout",
     "output_type": "stream",
     "text": [
      "\n",
      "Promedio de Ventas Diaria por Categoria de Productos\n",
      "Beauty:35878.75\n",
      "Clothing:38895.00\n",
      "Electronics:39226.25\n"
     ]
    }
   ],
   "source": [
    "#Impimir los resultados\n",
    "print('\\nPromedio de Ventas Diaria por Categoria de Productos')\n",
    "for categoria, promedio in promedio_diario_de_ventas_por_categoria.items():\n",
    "    print(f\"{categoria}:{promedio:.2f}\")"
   ]
  },
  {
   "cell_type": "markdown",
   "metadata": {},
   "source": [
    "3. Identifica las categorías de productos con mayores y menores ventas."
   ]
  },
  {
   "cell_type": "code",
   "execution_count": 7,
   "metadata": {},
   "outputs": [],
   "source": [
    "producto_mayor_venta = max(total_ventas_por_categoria)\n",
    "producto_menor_venta = min(total_ventas_por_categoria)"
   ]
  },
  {
   "cell_type": "code",
   "execution_count": 8,
   "metadata": {},
   "outputs": [
    {
     "name": "stdout",
     "output_type": "stream",
     "text": [
      "Categoria con mayoir venta: Electronics\n",
      "Categoria con menor vetnta: Beauty\n"
     ]
    }
   ],
   "source": [
    "print(f'Categoria con mayoir venta: {producto_mayor_venta}')\n",
    "print(f'Categoria con menor vetnta: {producto_menor_venta}')"
   ]
  },
  {
   "cell_type": "markdown",
   "metadata": {},
   "source": [
    "#### Manipulación de Datos:\n"
   ]
  },
  {
   "cell_type": "markdown",
   "metadata": {},
   "source": [
    "1. Filtra los datos para mostrar solo las ventas de una categoría de producto específica."
   ]
  },
  {
   "cell_type": "code",
   "execution_count": 9,
   "metadata": {},
   "outputs": [],
   "source": [
    "# Filtrar los datos para mostrar solo las ventas de la categoría Electronics \n",
    "\n",
    "categoria_filtrada = 'Electronics'\n",
    "ventas_categoria_especifica = []\n",
    "\n",
    "for i in range(len(datos)):\n",
    "    if datos[i, 5] == categoria_filtrada:  \n",
    "        ventas_categoria_especifica.append(datos[i])\n",
    "\n",
    "#Para ver los datos de manera mas ordenada\n",
    "ventas_categoria_especifica = np.array(ventas_categoria_especifica)"
   ]
  },
  {
   "cell_type": "code",
   "execution_count": 10,
   "metadata": {},
   "outputs": [
    {
     "name": "stdout",
     "output_type": "stream",
     "text": [
      "\n",
      "Ventas para la categoría 'Electronics':\n",
      "[['3' '2023-01-13' 'CUST003' ... '1' '30' '30']\n",
      " ['8' '2023-02-22' 'CUST008' ... '4' '25' '100']\n",
      " ['9' '2023-12-13' 'CUST009' ... '2' '300' '600']\n",
      " ...\n",
      " ['993' '2023-02-06' 'CUST993' ... '3' '50' '150']\n",
      " ['999' '2023-12-05' 'CUST999' ... '3' '50' '150']\n",
      " ['1000' '2023-04-12' 'CUST1000' ... '4' '30' '120']]\n"
     ]
    }
   ],
   "source": [
    "# Imprimir los resultados\n",
    "print(f\"\\nVentas para la categoría '{categoria_filtrada}':\")\n",
    "print(ventas_categoria_especifica)"
   ]
  },
  {
   "cell_type": "markdown",
   "metadata": {},
   "source": [
    "2. Metricas adicionales:"
   ]
  },
  {
   "cell_type": "markdown",
   "metadata": {},
   "source": [
    "2.1 Promedio de ventas por clientes hombres"
   ]
  },
  {
   "cell_type": "code",
   "execution_count": 11,
   "metadata": {},
   "outputs": [],
   "source": [
    "# Función para calcular el promedio de ventas por clientes masculinos\n",
    "def promedio_ventas_hombres(datos):\n",
    "    total_ventas = 0\n",
    "    contador = 0\n",
    "    \n",
    "    for i in range(len(datos)):\n",
    "        if datos[i, 3] == 'Male': \n",
    "            total_ventas += float(datos[i, 8])  \n",
    "            contador += 1\n",
    "    \n",
    "    return total_ventas / contador if contador > 0 else 0\n"
   ]
  },
  {
   "cell_type": "code",
   "execution_count": 12,
   "metadata": {},
   "outputs": [
    {
     "name": "stdout",
     "output_type": "stream",
     "text": [
      "Promedio de ventas por clientes masculinos: 455.42857142857144\n"
     ]
    }
   ],
   "source": [
    "promedio_ventas_masculinas = promedio_ventas_hombres(datos)\n",
    "print(f\"Promedio de ventas por clientes masculinos: {promedio_ventas_masculinas}\")"
   ]
  },
  {
   "cell_type": "markdown",
   "metadata": {},
   "source": [
    "2.2 Porcentaje de ventas por categorias de productos"
   ]
  },
  {
   "cell_type": "code",
   "execution_count": 13,
   "metadata": {},
   "outputs": [],
   "source": [
    "#creamos una funcio para calcular el porcentaje de ventas por categoria de productos\n",
    "def porcentaje_ventas_por_categoria(datos):\n",
    "    total_ventas = 0\n",
    "    ventas_por_categoria = {}\n",
    "    \n",
    "    for i in range(len(datos)):\n",
    "        categoria_productos = datos[i, 5]  \n",
    "        ventas = float(datos[i, 8]) \n",
    "        \n",
    "        if categoria_productos not in ventas_por_categoria:\n",
    "            ventas_por_categoria[categoria_productos] = 0\n",
    "        ventas_por_categoria[categoria_productos] += ventas\n",
    "        total_ventas += ventas\n",
    "\n",
    "    #calculamos el porcentaje\n",
    "    porcentajes = {categoria_productos: (ventas / total_ventas) * 100 for categoria_productos, ventas in ventas_por_categoria.items()} #if total_ventas > 0 else {}\n",
    "    \n",
    "    return porcentajes"
   ]
  },
  {
   "cell_type": "code",
   "execution_count": 14,
   "metadata": {},
   "outputs": [
    {
     "name": "stdout",
     "output_type": "stream",
     "text": [
      "Porcentaje de ventas por categoría:\n",
      "Beauty: 31.47%\n",
      "Clothing: 34.12%\n",
      "Electronics: 34.41%\n"
     ]
    }
   ],
   "source": [
    "# Calcular el porcentaje de ventas por categoría\n",
    "porcentajes = porcentaje_ventas_por_categoria(datos)\n",
    "print(\"Porcentaje de ventas por categoría:\")\n",
    "for categoria_productos, porcentaje in porcentajes.items():\n",
    "    print(f\"{categoria_productos}: {porcentaje:.2f}%\")"
   ]
  }
 ],
 "metadata": {
  "kernelspec": {
   "display_name": "Python 3",
   "language": "python",
   "name": "python3"
  },
  "language_info": {
   "codemirror_mode": {
    "name": "ipython",
    "version": 3
   },
   "file_extension": ".py",
   "mimetype": "text/x-python",
   "name": "python",
   "nbconvert_exporter": "python",
   "pygments_lexer": "ipython3",
   "version": "3.12.6"
  }
 },
 "nbformat": 4,
 "nbformat_minor": 2
}
