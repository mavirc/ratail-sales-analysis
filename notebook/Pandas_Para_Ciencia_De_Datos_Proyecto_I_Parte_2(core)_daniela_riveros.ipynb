{
 "cells": [
  {
   "cell_type": "markdown",
   "metadata": {},
   "source": [
    "# Analisis y Prediccion de Ventas en una Tineda de Retail"
   ]
  },
  {
   "cell_type": "markdown",
   "metadata": {},
   "source": [
    "1. Preparacion de entorno\n",
    "- Tranajo dentro del mismo repositorio del proyecto Primera parte\n",
    "- Activo el Virtaul enviroment que estoy ocupando para este proyecto\n",
    "- Creo el nuevo .ipynb dentro del notebook folder"
   ]
  },
  {
   "cell_type": "markdown",
   "metadata": {},
   "source": [
    "2. Carga de Datos\n",
    "- Importamos las librerias necesarias\n",
    "- Cargamos los dotos ocupando Pandas en un DataFrame"
   ]
  },
  {
   "cell_type": "code",
   "execution_count": 1,
   "metadata": {},
   "outputs": [],
   "source": [
    "import pandas as pd"
   ]
  },
  {
   "cell_type": "code",
   "execution_count": 7,
   "metadata": {},
   "outputs": [
    {
     "name": "stdout",
     "output_type": "stream",
     "text": [
      "   Transaction ID        Date Customer ID  Gender  Age Product Category  \\\n",
      "0               1  2023-11-24     CUST001    Male   34           Beauty   \n",
      "1               2  2023-02-27     CUST002  Female   26         Clothing   \n",
      "2               3  2023-01-13     CUST003    Male   50      Electronics   \n",
      "3               4  2023-05-21     CUST004    Male   37         Clothing   \n",
      "4               5  2023-05-06     CUST005    Male   30           Beauty   \n",
      "5               6  2023-04-25     CUST006  Female   45           Beauty   \n",
      "6               7  2023-03-13     CUST007    Male   46         Clothing   \n",
      "7               8  2023-02-22     CUST008    Male   30      Electronics   \n",
      "8               9  2023-12-13     CUST009    Male   63      Electronics   \n",
      "9              10  2023-10-07     CUST010  Female   52         Clothing   \n",
      "\n",
      "   Quantity  Price per Unit  Total Amount  \n",
      "0         3              50           150  \n",
      "1         2             500          1000  \n",
      "2         1              30            30  \n",
      "3         1             500           500  \n",
      "4         2              50           100  \n",
      "5         1              30            30  \n",
      "6         2              25            50  \n",
      "7         4              25           100  \n",
      "8         2             300           600  \n",
      "9         4              50           200  \n"
     ]
    }
   ],
   "source": [
    "#Cargar datos con pandas\n",
    "df = pd.read_csv('C:/Users/damav/Desktop/Codingdojo/clases/ratail-sales-analysis/data/retail_sales_dataset.csv')\n",
    "print(df.head(10))\n"
   ]
  },
  {
   "cell_type": "markdown",
   "metadata": {},
   "source": [
    "3. Exploracion Inicial de los Datos"
   ]
  },
  {
   "cell_type": "code",
   "execution_count": 10,
   "metadata": {},
   "outputs": [
    {
     "name": "stdout",
     "output_type": "stream",
     "text": [
      "     Transaction ID        Date Customer ID  Gender  Age Product Category  \\\n",
      "995             996  2023-05-16     CUST996    Male   62         Clothing   \n",
      "996             997  2023-11-17     CUST997    Male   52           Beauty   \n",
      "997             998  2023-10-29     CUST998  Female   23           Beauty   \n",
      "998             999  2023-12-05     CUST999  Female   36      Electronics   \n",
      "999            1000  2023-04-12    CUST1000    Male   47      Electronics   \n",
      "\n",
      "     Quantity  Price per Unit  Total Amount  \n",
      "995         1              50            50  \n",
      "996         3              30            90  \n",
      "997         4              25           100  \n",
      "998         3              50           150  \n",
      "999         4              30           120  \n"
     ]
    }
   ],
   "source": [
    "#Examinamos la ultimas 5 filas del DataFrame\n",
    "print(df.tail())"
   ]
  },
  {
   "cell_type": "code",
   "execution_count": 11,
   "metadata": {},
   "outputs": [
    {
     "name": "stdout",
     "output_type": "stream",
     "text": [
      "<class 'pandas.core.frame.DataFrame'>\n",
      "RangeIndex: 1000 entries, 0 to 999\n",
      "Data columns (total 9 columns):\n",
      " #   Column            Non-Null Count  Dtype \n",
      "---  ------            --------------  ----- \n",
      " 0   Transaction ID    1000 non-null   int64 \n",
      " 1   Date              1000 non-null   object\n",
      " 2   Customer ID       1000 non-null   object\n",
      " 3   Gender            1000 non-null   object\n",
      " 4   Age               1000 non-null   int64 \n",
      " 5   Product Category  1000 non-null   object\n",
      " 6   Quantity          1000 non-null   int64 \n",
      " 7   Price per Unit    1000 non-null   int64 \n",
      " 8   Total Amount      1000 non-null   int64 \n",
      "dtypes: int64(5), object(4)\n",
      "memory usage: 70.4+ KB\n"
     ]
    }
   ],
   "source": [
    "#Optenemso informacion general del DataFrame\n",
    "df.info()"
   ]
  },
  {
   "cell_type": "code",
   "execution_count": 13,
   "metadata": {},
   "outputs": [
    {
     "data": {
      "text/html": [
       "<div>\n",
       "<style scoped>\n",
       "    .dataframe tbody tr th:only-of-type {\n",
       "        vertical-align: middle;\n",
       "    }\n",
       "\n",
       "    .dataframe tbody tr th {\n",
       "        vertical-align: top;\n",
       "    }\n",
       "\n",
       "    .dataframe thead th {\n",
       "        text-align: right;\n",
       "    }\n",
       "</style>\n",
       "<table border=\"1\" class=\"dataframe\">\n",
       "  <thead>\n",
       "    <tr style=\"text-align: right;\">\n",
       "      <th></th>\n",
       "      <th>Transaction ID</th>\n",
       "      <th>Age</th>\n",
       "      <th>Quantity</th>\n",
       "      <th>Price per Unit</th>\n",
       "      <th>Total Amount</th>\n",
       "    </tr>\n",
       "  </thead>\n",
       "  <tbody>\n",
       "    <tr>\n",
       "      <th>count</th>\n",
       "      <td>1000.000000</td>\n",
       "      <td>1000.00000</td>\n",
       "      <td>1000.000000</td>\n",
       "      <td>1000.000000</td>\n",
       "      <td>1000.000000</td>\n",
       "    </tr>\n",
       "    <tr>\n",
       "      <th>mean</th>\n",
       "      <td>500.500000</td>\n",
       "      <td>41.39200</td>\n",
       "      <td>2.514000</td>\n",
       "      <td>179.890000</td>\n",
       "      <td>456.000000</td>\n",
       "    </tr>\n",
       "    <tr>\n",
       "      <th>std</th>\n",
       "      <td>288.819436</td>\n",
       "      <td>13.68143</td>\n",
       "      <td>1.132734</td>\n",
       "      <td>189.681356</td>\n",
       "      <td>559.997632</td>\n",
       "    </tr>\n",
       "    <tr>\n",
       "      <th>min</th>\n",
       "      <td>1.000000</td>\n",
       "      <td>18.00000</td>\n",
       "      <td>1.000000</td>\n",
       "      <td>25.000000</td>\n",
       "      <td>25.000000</td>\n",
       "    </tr>\n",
       "    <tr>\n",
       "      <th>25%</th>\n",
       "      <td>250.750000</td>\n",
       "      <td>29.00000</td>\n",
       "      <td>1.000000</td>\n",
       "      <td>30.000000</td>\n",
       "      <td>60.000000</td>\n",
       "    </tr>\n",
       "    <tr>\n",
       "      <th>50%</th>\n",
       "      <td>500.500000</td>\n",
       "      <td>42.00000</td>\n",
       "      <td>3.000000</td>\n",
       "      <td>50.000000</td>\n",
       "      <td>135.000000</td>\n",
       "    </tr>\n",
       "    <tr>\n",
       "      <th>75%</th>\n",
       "      <td>750.250000</td>\n",
       "      <td>53.00000</td>\n",
       "      <td>4.000000</td>\n",
       "      <td>300.000000</td>\n",
       "      <td>900.000000</td>\n",
       "    </tr>\n",
       "    <tr>\n",
       "      <th>max</th>\n",
       "      <td>1000.000000</td>\n",
       "      <td>64.00000</td>\n",
       "      <td>4.000000</td>\n",
       "      <td>500.000000</td>\n",
       "      <td>2000.000000</td>\n",
       "    </tr>\n",
       "  </tbody>\n",
       "</table>\n",
       "</div>"
      ],
      "text/plain": [
       "       Transaction ID         Age     Quantity  Price per Unit  Total Amount\n",
       "count     1000.000000  1000.00000  1000.000000     1000.000000   1000.000000\n",
       "mean       500.500000    41.39200     2.514000      179.890000    456.000000\n",
       "std        288.819436    13.68143     1.132734      189.681356    559.997632\n",
       "min          1.000000    18.00000     1.000000       25.000000     25.000000\n",
       "25%        250.750000    29.00000     1.000000       30.000000     60.000000\n",
       "50%        500.500000    42.00000     3.000000       50.000000    135.000000\n",
       "75%        750.250000    53.00000     4.000000      300.000000    900.000000\n",
       "max       1000.000000    64.00000     4.000000      500.000000   2000.000000"
      ]
     },
     "execution_count": 13,
     "metadata": {},
     "output_type": "execute_result"
    }
   ],
   "source": [
    "#Optenemos metricas generales del DataFrame\n",
    "df.describe()"
   ]
  },
  {
   "cell_type": "markdown",
   "metadata": {},
   "source": [
    "4. Inspeccion de los Datos"
   ]
  },
  {
   "cell_type": "code",
   "execution_count": 14,
   "metadata": {},
   "outputs": [],
   "source": [
    "#Funcion para ver el tipo de datos segun las columnas del DataFrame\n",
    "def data_type():\n",
    "    type = []\n",
    "    for columns in df.columns:\n",
    "        type.append((columns, df[columns].dtype))\n",
    "    print(\"The type of data is:\")\n",
    "    for column, dtype in type:\n",
    "        print(f\"{column}: {dtype}\")\n"
   ]
  },
  {
   "cell_type": "code",
   "execution_count": 45,
   "metadata": {},
   "outputs": [
    {
     "name": "stdout",
     "output_type": "stream",
     "text": [
      "The type of data is:\n",
      "Transaction ID: int64\n",
      "Date: object\n",
      "Customer ID: object\n",
      "Gender: object\n",
      "Age: int64\n",
      "Product Category: object\n",
      "Quantity: int64\n",
      "Price per Unit: int64\n",
      "Total Amount: int64\n",
      "None\n",
      "Los tipos de datos son\n",
      "Transaction ID       int64\n",
      "Date                object\n",
      "Customer ID         object\n",
      "Gender              object\n",
      "Age                  int64\n",
      "Product Category    object\n",
      "Quantity             int64\n",
      "Price per Unit       int64\n",
      "Total Amount         int64\n",
      "dtype: object\n"
     ]
    }
   ],
   "source": [
    "#Imprimos los tios de datos\n",
    "print(data_type())\n",
    "\n",
    "#or\n",
    "print('Los tipos de datos son')\n",
    "print(df.dtypes)"
   ]
  },
  {
   "cell_type": "code",
   "execution_count": 31,
   "metadata": {},
   "outputs": [
    {
     "name": "stdout",
     "output_type": "stream",
     "text": [
      "La cantidad de valores por categoria son: \n",
      "Product Category\n",
      "Clothing       351\n",
      "Electronics    342\n",
      "Beauty         307\n",
      "Name: count, dtype: int64\n"
     ]
    }
   ],
   "source": [
    "#Contamos los valores unicos de la coluna Product Category, ya no hay una que sea solo Producto\n",
    "numero_de_producto = df['Product Category'].value_counts()\n",
    "\n",
    "print(f'La cantidad de valores por categoria son: \\n{numero_de_producto}')"
   ]
  },
  {
   "cell_type": "code",
   "execution_count": 32,
   "metadata": {},
   "outputs": [
    {
     "name": "stdout",
     "output_type": "stream",
     "text": [
      "Los valores unicos son: 3\n"
     ]
    }
   ],
   "source": [
    "#Contamos los valores unicos en la columna Produc Category\n",
    "valores_unicos = df['Product Category'].nunique()\n",
    "\n",
    "print(f'Los valores unicos son: {valores_unicos}')"
   ]
  },
  {
   "cell_type": "markdown",
   "metadata": {},
   "source": [
    "5. Filtrado de Datos"
   ]
  },
  {
   "cell_type": "code",
   "execution_count": 51,
   "metadata": {},
   "outputs": [
    {
     "name": "stdout",
     "output_type": "stream",
     "text": [
      "Data Frame de las ventas sean mayor a 50:\n",
      "     Transaction ID        Date Customer ID  Gender  Age Product Category  \\\n",
      "1                 2  2023-02-27     CUST002  Female   26         Clothing   \n",
      "3                 4  2023-05-21     CUST004    Male   37         Clothing   \n",
      "8                 9  2023-12-13     CUST009    Male   63      Electronics   \n",
      "9                10  2023-10-07     CUST010  Female   52         Clothing   \n",
      "12               13  2023-08-05     CUST013    Male   22      Electronics   \n",
      "..              ...         ...         ...     ...  ...              ...   \n",
      "983             984  2023-08-29     CUST984    Male   56         Clothing   \n",
      "985             986  2023-01-17     CUST986  Female   49         Clothing   \n",
      "986             987  2023-04-29     CUST987  Female   30         Clothing   \n",
      "989             990  2023-05-25     CUST990  Female   58           Beauty   \n",
      "993             994  2023-12-18     CUST994  Female   51           Beauty   \n",
      "\n",
      "     Quantity  Price per Unit  Total Amount  \n",
      "1           2             500          1000  \n",
      "3           1             500           500  \n",
      "8           2             300           600  \n",
      "9           4              50           200  \n",
      "12          3             500          1500  \n",
      "..        ...             ...           ...  \n",
      "983         1             500           500  \n",
      "985         2             500          1000  \n",
      "986         3             300           900  \n",
      "989         2             500          1000  \n",
      "993         2             500          1000  \n",
      "\n",
      "[458 rows x 9 columns]\n"
     ]
    }
   ],
   "source": [
    "#Filtramos el DataFrame para optener solo las ventas mayores a 150. Filtra por 50 no añadira mucho cambio. \n",
    "filtro_ventas1 = df[df['Total Amount'] > 150]\n",
    "print('Data Frame de las ventas sean mayor a 50:')\n",
    "print(filtro_ventas1)"
   ]
  },
  {
   "cell_type": "code",
   "execution_count": 57,
   "metadata": {},
   "outputs": [
    {
     "name": "stdout",
     "output_type": "stream",
     "text": [
      "     Transaction ID        Date Customer ID  Gender  Age Product Category  \\\n",
      "1                 2  2023-02-27     CUST002  Female   26         Clothing   \n",
      "3                 4  2023-05-21     CUST004    Male   37         Clothing   \n",
      "8                 9  2023-12-13     CUST009    Male   63      Electronics   \n",
      "12               13  2023-08-05     CUST013    Male   22      Electronics   \n",
      "14               15  2023-01-16     CUST015  Female   42      Electronics   \n",
      "..              ...         ...         ...     ...  ...              ...   \n",
      "983             984  2023-08-29     CUST984    Male   56         Clothing   \n",
      "985             986  2023-01-17     CUST986  Female   49         Clothing   \n",
      "986             987  2023-04-29     CUST987  Female   30         Clothing   \n",
      "989             990  2023-05-25     CUST990  Female   58           Beauty   \n",
      "993             994  2023-12-18     CUST994  Female   51           Beauty   \n",
      "\n",
      "     Quantity  Price per Unit  Total Amount  \n",
      "1           2             500          1000  \n",
      "3           1             500           500  \n",
      "8           2             300           600  \n",
      "12          3             500          1500  \n",
      "14          4             500          2000  \n",
      "..        ...             ...           ...  \n",
      "983         1             500           500  \n",
      "985         2             500          1000  \n",
      "986         3             300           900  \n",
      "989         2             500          1000  \n",
      "993         2             500          1000  \n",
      "\n",
      "[396 rows x 9 columns]\n"
     ]
    }
   ],
   "source": [
    "#Filtramos el DataFrame, para precios mayores a 240. Filtra por 0.5 no añadira mucho cambio. \n",
    "filtro_precio = df[df['Price per Unit'] > 250]\n",
    "print(filtro_precio)"
   ]
  },
  {
   "cell_type": "code",
   "execution_count": 63,
   "metadata": {},
   "outputs": [
    {
     "name": "stdout",
     "output_type": "stream",
     "text": [
      "     Transaction ID        Date Customer ID  Gender  Age Product Category  \\\n",
      "7                 8  2023-02-22     CUST008    Male   30      Electronics   \n",
      "8                 9  2023-12-13     CUST009    Male   63      Electronics   \n",
      "12               13  2023-08-05     CUST013    Male   22      Electronics   \n",
      "14               15  2023-01-16     CUST015  Female   42      Electronics   \n",
      "17               18  2023-04-30     CUST018  Female   47      Electronics   \n",
      "..              ...         ...         ...     ...  ...              ...   \n",
      "984             985  2023-05-30     CUST985  Female   19      Electronics   \n",
      "991             992  2023-08-21     CUST992  Female   57      Electronics   \n",
      "992             993  2023-02-06     CUST993  Female   48      Electronics   \n",
      "998             999  2023-12-05     CUST999  Female   36      Electronics   \n",
      "999            1000  2023-04-12    CUST1000    Male   47      Electronics   \n",
      "\n",
      "     Quantity  Price per Unit  Total Amount  \n",
      "7           4              25           100  \n",
      "8           2             300           600  \n",
      "12          3             500          1500  \n",
      "14          4             500          2000  \n",
      "17          2              25            50  \n",
      "..        ...             ...           ...  \n",
      "984         2              25            50  \n",
      "991         2              30            60  \n",
      "992         3              50           150  \n",
      "998         3              50           150  \n",
      "999         4              30           120  \n",
      "\n",
      "[308 rows x 9 columns]\n"
     ]
    }
   ],
   "source": [
    "#Filtramos el DataFrame con Query, caundo Product Category es igual a \"Electronics\". Mondicamos manzana por Electronics\n",
    "query_resultados = df.query(\"`Product Category` == 'Electronics' and `Total Amount` > 30\")\n",
    "print(query_resultados)"
   ]
  },
  {
   "cell_type": "markdown",
   "metadata": {},
   "source": [
    "6. Slicing de Datos"
   ]
  },
  {
   "cell_type": "code",
   "execution_count": 66,
   "metadata": {},
   "outputs": [
    {
     "name": "stdout",
     "output_type": "stream",
     "text": [
      "    Product Category  Total Amount\n",
      "0             Beauty           150\n",
      "1           Clothing          1000\n",
      "2        Electronics            30\n",
      "3           Clothing           500\n",
      "4             Beauty           100\n",
      "..               ...           ...\n",
      "995         Clothing            50\n",
      "996           Beauty            90\n",
      "997           Beauty           100\n",
      "998      Electronics           150\n",
      "999      Electronics           120\n",
      "\n",
      "[1000 rows x 2 columns]\n"
     ]
    }
   ],
   "source": [
    "#Seleccionamos solos las columnas Product Category y Total Amount.\n",
    "df_product_ventas = df[['Product Category', 'Total Amount']]\n",
    "\n",
    "#Imprimimos el DataFrme filtrado\n",
    "print(df_product_ventas)"
   ]
  },
  {
   "cell_type": "code",
   "execution_count": 68,
   "metadata": {},
   "outputs": [
    {
     "name": "stdout",
     "output_type": "stream",
     "text": [
      "   Customer ID Product Category\n",
      "5      CUST006           Beauty\n",
      "6      CUST007         Clothing\n",
      "7      CUST008      Electronics\n",
      "8      CUST009      Electronics\n",
      "9      CUST010         Clothing\n",
      "10     CUST011         Clothing\n"
     ]
    }
   ],
   "source": [
    "#Usamos loc para mostras las filas del 5 a 10(inclusive) de dos columnas\n",
    "filtro_loc = df.loc[5:10, ['Customer ID', 'Product Category']]\n",
    "\n",
    "print (filtro_loc)"
   ]
  },
  {
   "cell_type": "code",
   "execution_count": 69,
   "metadata": {},
   "outputs": [
    {
     "name": "stdout",
     "output_type": "stream",
     "text": [
      "   Transaction ID        Date Customer ID\n",
      "0               1  2023-11-24     CUST001\n",
      "1               2  2023-02-27     CUST002\n",
      "2               3  2023-01-13     CUST003\n",
      "3               4  2023-05-21     CUST004\n",
      "4               5  2023-05-06     CUST005\n"
     ]
    }
   ],
   "source": [
    "#Usamos iloc para mostrar las primeras 5 filas y las primeras 3 columnas del DataFrame\n",
    "filtro_iloc = df.iloc[:5,:3]\n",
    "\n",
    "print(filtro_iloc)"
   ]
  }
 ],
 "metadata": {
  "kernelspec": {
   "display_name": "proyect",
   "language": "python",
   "name": "python3"
  },
  "language_info": {
   "codemirror_mode": {
    "name": "ipython",
    "version": 3
   },
   "file_extension": ".py",
   "mimetype": "text/x-python",
   "name": "python",
   "nbconvert_exporter": "python",
   "pygments_lexer": "ipython3",
   "version": "3.12.6"
  }
 },
 "nbformat": 4,
 "nbformat_minor": 2
}
